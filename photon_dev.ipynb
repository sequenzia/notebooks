{
  "nbformat": 4,
  "nbformat_minor": 0,
  "metadata": {
    "colab": {
      "name": "photon_dev.ipynb",
      "provenance": [],
      "background_execution": "on",
      "collapsed_sections": [],
      "machine_shape": "hm",
      "authorship_tag": "ABX9TyPI61eRRWZH62Adnl83xP5x",
      "include_colab_link": true
    },
    "kernelspec": {
      "name": "python3",
      "display_name": "Python 3"
    },
    "language_info": {
      "name": "python"
    },
    "accelerator": "GPU",
    "gpuClass": "standard"
  },
  "cells": [
    {
      "cell_type": "markdown",
      "metadata": {
        "id": "view-in-github",
        "colab_type": "text"
      },
      "source": [
        "<a href=\"https://colab.research.google.com/github/sequenzia/notebooks/blob/main/photon_dev.ipynb\" target=\"_parent\"><img src=\"https://colab.research.google.com/assets/colab-badge.svg\" alt=\"Open In Colab\"/></a>"
      ]
    },
    {
      "cell_type": "code",
      "source": [
        "temp_dir = '/temp_photon'\n",
        "dist_dir = temp_dir + '/dist/'\n",
        "imports_dir = temp_dir + '/imports/'\n",
        "data_dir = temp_dir + '/data' \n",
        "tar_file = dist_dir + '/photon-ml-0.1.0.tar.gz'\n",
        "\n",
        "import os, sys\n",
        "\n",
        "if not os.path.exists(temp_dir):\n",
        "    \n",
        "    os.makedirs(temp_dir)\n",
        "    os.makedirs(dist_dir)\n",
        "    os.makedirs(imports_dir)\n",
        "    os.makedirs(data_dir)\n",
        "    \n",
        "    !gsutil -m cp -r gs://photon-ml-public/dist/* $dist_dir\n",
        "    !gsutil -m cp -r gs://photon-ml-public/examples/* $imports_dir\n",
        "    !gsutil -m cp -r gs://photon-ml-public/data/* $data_dir\n",
        "\n",
        "try:\n",
        "    from photon import Photon\n",
        "except ModuleNotFoundError:\n",
        "    #!pip install $tar_file\n",
        "    !pip install photon-ml   \n",
        "    from photon import Photon\n",
        "\n",
        "sys.path.append(imports_dir)"
      ],
      "metadata": {
        "id": "axyPOdK1INEH"
      },
      "execution_count": 1,
      "outputs": []
    },
    {
      "cell_type": "code",
      "source": [
        "from configs import ensemble_config as config\n",
        "\n",
        "config.neon_config['data_dir'] = data_dir\n",
        "config.neon_config['data_fn'] = 'SPY_1T_2016_2017'\n",
        "\n",
        "photon = Photon(run_dir=temp_dir)\n",
        "\n",
        "neon = photon.Networks(photon=photon, **config.neon_config)\n",
        "argon = photon.Trees(network=neon, **config.argon_config)\n",
        "muon = photon.Branches(trees=[argon], **config.muon_config)"
      ],
      "metadata": {
        "id": "3iEErsojL2LO"
      },
      "execution_count": 2,
      "outputs": []
    },
    {
      "cell_type": "code",
      "source": [
        "run = neon.gamma.run_network(branches=[muon])"
      ],
      "metadata": {
        "colab": {
          "base_uri": "https://localhost:8080/"
        },
        "id": "4WExsSWNzpz4",
        "outputId": "d9f1f7e8-5ba7-42a8-e801-5ac8c02e46f1"
      },
      "execution_count": 3,
      "outputs": [
        {
          "output_type": "stream",
          "name": "stdout",
          "text": [
            "\n",
            " --------------------- Neon ----------------------\n",
            "\n",
            "   Tree: Argon | Branch: muon | photon_id: 2  \n",
            "\n",
            "   n_chains: 5 | epochs: 1 | batch_size: 100 \n",
            "\n",
            "   train_days: 100 | val_days: 100 | test_days: 50\n",
            "\n",
            " -------------------------------------------------\n",
            "\n",
            " ****************** Epoch: 1 ****************** \n",
            "\n",
            "    ::::: muon_chain_0 (10 models) ::::: \n",
            "\n",
            "\t\t -------- TRAIN -------- \n",
            "\n",
            "\t\t ::: Avg LR 0.0218750 :::\n",
            "\n",
            "\t\t Loss \t 3.338 (0.200)\n",
            "\t\t Acc \t 0.220 (0.022)\n",
            "\n",
            "\t\t -------- VAL -------- \n",
            "\n",
            "\t\t Loss \t 6.539 (2.046)\n",
            "\t\t Acc \t 0.258 (0.083)\n",
            "\n",
            "    ::::: muon_chain_1 (10 models) ::::: \n",
            "\n",
            "\t\t -------- TRAIN -------- \n",
            "\n",
            "\t\t ::: Avg LR 0.0175000 :::\n",
            "\n",
            "\t\t Loss \t 1.598 (0.058)\n",
            "\t\t Acc \t 0.252 (0.135)\n",
            "\n",
            "\t\t -------- VAL -------- \n",
            "\n",
            "\t\t Loss \t 1.483 (0.082)\n",
            "\t\t Acc \t 0.441 (0.111)\n",
            "\n",
            "    ::::: muon_chain_2 (10 models) ::::: \n",
            "\n",
            "\t\t -------- TRAIN -------- \n",
            "\n",
            "\t\t ::: Avg LR 0.0131250 :::\n",
            "\n",
            "\t\t Loss \t 1.594 (0.041)\n",
            "\t\t Acc \t 0.276 (0.141)\n",
            "\n",
            "\t\t -------- VAL -------- \n",
            "\n",
            "\t\t Loss \t 1.518 (0.046)\n",
            "\t\t Acc \t 0.386 (0.166)\n",
            "\n",
            "    ::::: muon_chain_3 (10 models) ::::: \n",
            "\n",
            "\t\t -------- TRAIN -------- \n",
            "\n",
            "\t\t ::: Avg LR 0.0131250 :::\n",
            "\n",
            "\t\t Loss \t 1.586 (0.023)\n",
            "\t\t Acc \t 0.320 (0.123)\n",
            "\n",
            "\t\t -------- VAL -------- \n",
            "\n",
            "\t\t Loss \t 1.519 (0.031)\n",
            "\t\t Acc \t 0.484 (0.092)\n",
            "\n",
            "    ::::: muon_chain_4 (1 models) ::::: \n",
            "\n",
            "\t\t -------- TRAIN -------- \n",
            "\n",
            "\t\t ::: Avg LR 0.0087500 :::\n",
            "\n",
            "\t\t Loss \t 1.600\n",
            "\t\t Acc \t 0.235\n",
            "\n",
            "\t\t -------- VAL -------- \n",
            "\n",
            "\t\t Loss \t 1.590\n",
            "\t\t Acc \t 0.010\n",
            "\n",
            "\n",
            " --- 8.1622 secs --- \n",
            "\n"
          ]
        }
      ]
    }
  ]
}