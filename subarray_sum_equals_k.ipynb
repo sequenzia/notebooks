{
  "nbformat": 4,
  "nbformat_minor": 0,
  "metadata": {
    "colab": {
      "name": "subarray-sum-equals-k.ipynb",
      "provenance": [],
      "collapsed_sections": [],
      "authorship_tag": "ABX9TyPxVI1fFvf0KMvOJR9hc7Pw"
    },
    "kernelspec": {
      "name": "python3",
      "display_name": "Python 3"
    },
    "language_info": {
      "name": "python"
    }
  },
  "cells": [
    {
      "cell_type": "code",
      "execution_count": 2,
      "metadata": {
        "id": "lxqURYSM2uZ_"
      },
      "outputs": [],
      "source": [
        "# https://leetcode.com/problems/subarray-sum-equals-k/\n",
        "\n",
        "from typing import List\n",
        "\n",
        "class Solution:\n",
        "    \n",
        "    def subarraySum(self, nums: List[int], k: int) -> int:\n",
        "\n",
        "        cur_count = 0\n",
        "        cur_sum = 0\n",
        "\n",
        "        sum_map = {0:1}\n",
        "\n",
        "        state =  []\n",
        "\n",
        "        for idx in range(len(nums)):\n",
        "\n",
        "            cur_sum += nums[idx]\n",
        "            cur_diff = cur_sum-k\n",
        "\n",
        "            if cur_diff in sum_map:\n",
        "                cur_count += sum_map[cur_diff]\n",
        "\n",
        "            if cur_sum in sum_map:\n",
        "                sum_map[cur_sum] += 1\n",
        "            else:\n",
        "                sum_map[cur_sum] = 1\n",
        "\n",
        "            print(cur_sum, cur_diff)\n",
        "            print(sum_map, cur_count, '\\n')\n",
        "\n",
        "        return cur_count\n"
      ]
    },
    {
      "cell_type": "code",
      "source": [
        "solution = Solution()\n",
        "\n",
        "inputs_0 = {\"nums\": [3,4,7,2,-3,1,4,2],\n",
        "            \"k\": 7}\n",
        "\n",
        "print(solution.subarraySum(**inputs_0))"
      ],
      "metadata": {
        "colab": {
          "base_uri": "https://localhost:8080/"
        },
        "id": "op5scl4W3F-p",
        "outputId": "be0add0b-39a9-4147-82c4-375b7496203a"
      },
      "execution_count": 3,
      "outputs": [
        {
          "output_type": "stream",
          "name": "stdout",
          "text": [
            "3 -4\n",
            "{0: 1, 3: 1} 0 \n",
            "\n",
            "7 0\n",
            "{0: 1, 3: 1, 7: 1} 1 \n",
            "\n",
            "14 7\n",
            "{0: 1, 3: 1, 7: 1, 14: 1} 2 \n",
            "\n",
            "16 9\n",
            "{0: 1, 3: 1, 7: 1, 14: 1, 16: 1} 2 \n",
            "\n",
            "13 6\n",
            "{0: 1, 3: 1, 7: 1, 14: 1, 16: 1, 13: 1} 2 \n",
            "\n",
            "14 7\n",
            "{0: 1, 3: 1, 7: 1, 14: 2, 16: 1, 13: 1} 3 \n",
            "\n",
            "18 11\n",
            "{0: 1, 3: 1, 7: 1, 14: 2, 16: 1, 13: 1, 18: 1} 3 \n",
            "\n",
            "20 13\n",
            "{0: 1, 3: 1, 7: 1, 14: 2, 16: 1, 13: 1, 18: 1, 20: 1} 4 \n",
            "\n",
            "4\n"
          ]
        }
      ]
    }
  ]
}